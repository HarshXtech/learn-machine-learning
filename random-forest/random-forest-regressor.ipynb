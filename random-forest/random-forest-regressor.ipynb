{
 "cells": [
  {
   "cell_type": "code",
   "execution_count": 1,
   "id": "f937d600-6c63-4b13-beea-14676c9533be",
   "metadata": {},
   "outputs": [],
   "source": [
    "import numpy as np\n",
    "import pandas as pd\n",
    "import matplotlib.pyplot as plt"
   ]
  },
  {
   "cell_type": "code",
   "execution_count": 2,
   "id": "ff602b94-c112-4bd3-a206-6ccb349cd89f",
   "metadata": {},
   "outputs": [],
   "source": [
    "df = pd.read_csv('cardekho_dataset.csv')\n",
    "df.drop(['Unnamed: 0', 'car_name', 'brand'], axis=1, inplace=True)"
   ]
  },
  {
   "cell_type": "code",
   "execution_count": 3,
   "id": "3dbc0608-7c91-4852-8c0d-644b9fc2f253",
   "metadata": {},
   "outputs": [
    {
     "data": {
      "text/html": [
       "<div>\n",
       "<style scoped>\n",
       "    .dataframe tbody tr th:only-of-type {\n",
       "        vertical-align: middle;\n",
       "    }\n",
       "\n",
       "    .dataframe tbody tr th {\n",
       "        vertical-align: top;\n",
       "    }\n",
       "\n",
       "    .dataframe thead th {\n",
       "        text-align: right;\n",
       "    }\n",
       "</style>\n",
       "<table border=\"1\" class=\"dataframe\">\n",
       "  <thead>\n",
       "    <tr style=\"text-align: right;\">\n",
       "      <th></th>\n",
       "      <th>model</th>\n",
       "      <th>vehicle_age</th>\n",
       "      <th>km_driven</th>\n",
       "      <th>seller_type</th>\n",
       "      <th>fuel_type</th>\n",
       "      <th>transmission_type</th>\n",
       "      <th>mileage</th>\n",
       "      <th>engine</th>\n",
       "      <th>max_power</th>\n",
       "      <th>seats</th>\n",
       "      <th>selling_price</th>\n",
       "    </tr>\n",
       "  </thead>\n",
       "  <tbody>\n",
       "    <tr>\n",
       "      <th>0</th>\n",
       "      <td>Alto</td>\n",
       "      <td>9</td>\n",
       "      <td>120000</td>\n",
       "      <td>Individual</td>\n",
       "      <td>Petrol</td>\n",
       "      <td>Manual</td>\n",
       "      <td>19.70</td>\n",
       "      <td>796</td>\n",
       "      <td>46.30</td>\n",
       "      <td>5</td>\n",
       "      <td>120000</td>\n",
       "    </tr>\n",
       "    <tr>\n",
       "      <th>1</th>\n",
       "      <td>Grand</td>\n",
       "      <td>5</td>\n",
       "      <td>20000</td>\n",
       "      <td>Individual</td>\n",
       "      <td>Petrol</td>\n",
       "      <td>Manual</td>\n",
       "      <td>18.90</td>\n",
       "      <td>1197</td>\n",
       "      <td>82.00</td>\n",
       "      <td>5</td>\n",
       "      <td>550000</td>\n",
       "    </tr>\n",
       "    <tr>\n",
       "      <th>2</th>\n",
       "      <td>i20</td>\n",
       "      <td>11</td>\n",
       "      <td>60000</td>\n",
       "      <td>Individual</td>\n",
       "      <td>Petrol</td>\n",
       "      <td>Manual</td>\n",
       "      <td>17.00</td>\n",
       "      <td>1197</td>\n",
       "      <td>80.00</td>\n",
       "      <td>5</td>\n",
       "      <td>215000</td>\n",
       "    </tr>\n",
       "    <tr>\n",
       "      <th>3</th>\n",
       "      <td>Alto</td>\n",
       "      <td>9</td>\n",
       "      <td>37000</td>\n",
       "      <td>Individual</td>\n",
       "      <td>Petrol</td>\n",
       "      <td>Manual</td>\n",
       "      <td>20.92</td>\n",
       "      <td>998</td>\n",
       "      <td>67.10</td>\n",
       "      <td>5</td>\n",
       "      <td>226000</td>\n",
       "    </tr>\n",
       "    <tr>\n",
       "      <th>4</th>\n",
       "      <td>Ecosport</td>\n",
       "      <td>6</td>\n",
       "      <td>30000</td>\n",
       "      <td>Dealer</td>\n",
       "      <td>Diesel</td>\n",
       "      <td>Manual</td>\n",
       "      <td>22.77</td>\n",
       "      <td>1498</td>\n",
       "      <td>98.59</td>\n",
       "      <td>5</td>\n",
       "      <td>570000</td>\n",
       "    </tr>\n",
       "    <tr>\n",
       "      <th>...</th>\n",
       "      <td>...</td>\n",
       "      <td>...</td>\n",
       "      <td>...</td>\n",
       "      <td>...</td>\n",
       "      <td>...</td>\n",
       "      <td>...</td>\n",
       "      <td>...</td>\n",
       "      <td>...</td>\n",
       "      <td>...</td>\n",
       "      <td>...</td>\n",
       "      <td>...</td>\n",
       "    </tr>\n",
       "    <tr>\n",
       "      <th>15406</th>\n",
       "      <td>i10</td>\n",
       "      <td>9</td>\n",
       "      <td>10723</td>\n",
       "      <td>Dealer</td>\n",
       "      <td>Petrol</td>\n",
       "      <td>Manual</td>\n",
       "      <td>19.81</td>\n",
       "      <td>1086</td>\n",
       "      <td>68.05</td>\n",
       "      <td>5</td>\n",
       "      <td>250000</td>\n",
       "    </tr>\n",
       "    <tr>\n",
       "      <th>15407</th>\n",
       "      <td>Ertiga</td>\n",
       "      <td>2</td>\n",
       "      <td>18000</td>\n",
       "      <td>Dealer</td>\n",
       "      <td>Petrol</td>\n",
       "      <td>Manual</td>\n",
       "      <td>17.50</td>\n",
       "      <td>1373</td>\n",
       "      <td>91.10</td>\n",
       "      <td>7</td>\n",
       "      <td>925000</td>\n",
       "    </tr>\n",
       "    <tr>\n",
       "      <th>15408</th>\n",
       "      <td>Rapid</td>\n",
       "      <td>6</td>\n",
       "      <td>67000</td>\n",
       "      <td>Dealer</td>\n",
       "      <td>Diesel</td>\n",
       "      <td>Manual</td>\n",
       "      <td>21.14</td>\n",
       "      <td>1498</td>\n",
       "      <td>103.52</td>\n",
       "      <td>5</td>\n",
       "      <td>425000</td>\n",
       "    </tr>\n",
       "    <tr>\n",
       "      <th>15409</th>\n",
       "      <td>XUV500</td>\n",
       "      <td>5</td>\n",
       "      <td>3800000</td>\n",
       "      <td>Dealer</td>\n",
       "      <td>Diesel</td>\n",
       "      <td>Manual</td>\n",
       "      <td>16.00</td>\n",
       "      <td>2179</td>\n",
       "      <td>140.00</td>\n",
       "      <td>7</td>\n",
       "      <td>1225000</td>\n",
       "    </tr>\n",
       "    <tr>\n",
       "      <th>15410</th>\n",
       "      <td>City</td>\n",
       "      <td>2</td>\n",
       "      <td>13000</td>\n",
       "      <td>Dealer</td>\n",
       "      <td>Petrol</td>\n",
       "      <td>Automatic</td>\n",
       "      <td>18.00</td>\n",
       "      <td>1497</td>\n",
       "      <td>117.60</td>\n",
       "      <td>5</td>\n",
       "      <td>1200000</td>\n",
       "    </tr>\n",
       "  </tbody>\n",
       "</table>\n",
       "<p>15411 rows × 11 columns</p>\n",
       "</div>"
      ],
      "text/plain": [
       "          model  vehicle_age  km_driven seller_type fuel_type  \\\n",
       "0          Alto            9     120000  Individual    Petrol   \n",
       "1         Grand            5      20000  Individual    Petrol   \n",
       "2           i20           11      60000  Individual    Petrol   \n",
       "3          Alto            9      37000  Individual    Petrol   \n",
       "4      Ecosport            6      30000      Dealer    Diesel   \n",
       "...         ...          ...        ...         ...       ...   \n",
       "15406       i10            9      10723      Dealer    Petrol   \n",
       "15407    Ertiga            2      18000      Dealer    Petrol   \n",
       "15408     Rapid            6      67000      Dealer    Diesel   \n",
       "15409    XUV500            5    3800000      Dealer    Diesel   \n",
       "15410      City            2      13000      Dealer    Petrol   \n",
       "\n",
       "      transmission_type  mileage  engine  max_power  seats  selling_price  \n",
       "0                Manual    19.70     796      46.30      5         120000  \n",
       "1                Manual    18.90    1197      82.00      5         550000  \n",
       "2                Manual    17.00    1197      80.00      5         215000  \n",
       "3                Manual    20.92     998      67.10      5         226000  \n",
       "4                Manual    22.77    1498      98.59      5         570000  \n",
       "...                 ...      ...     ...        ...    ...            ...  \n",
       "15406            Manual    19.81    1086      68.05      5         250000  \n",
       "15407            Manual    17.50    1373      91.10      7         925000  \n",
       "15408            Manual    21.14    1498     103.52      5         425000  \n",
       "15409            Manual    16.00    2179     140.00      7        1225000  \n",
       "15410         Automatic    18.00    1497     117.60      5        1200000  \n",
       "\n",
       "[15411 rows x 11 columns]"
      ]
     },
     "execution_count": 3,
     "metadata": {},
     "output_type": "execute_result"
    }
   ],
   "source": [
    "df"
   ]
  },
  {
   "cell_type": "code",
   "execution_count": 4,
   "id": "1aa9b0f8-7ce0-492a-b7f8-4c312f69594b",
   "metadata": {},
   "outputs": [
    {
     "data": {
      "text/plain": [
       "model                0\n",
       "vehicle_age          0\n",
       "km_driven            0\n",
       "seller_type          0\n",
       "fuel_type            0\n",
       "transmission_type    0\n",
       "mileage              0\n",
       "engine               0\n",
       "max_power            0\n",
       "seats                0\n",
       "selling_price        0\n",
       "dtype: int64"
      ]
     },
     "execution_count": 4,
     "metadata": {},
     "output_type": "execute_result"
    }
   ],
   "source": [
    "df.isnull().sum()"
   ]
  },
  {
   "cell_type": "code",
   "execution_count": 5,
   "id": "bc500234-a8a3-4232-b8a7-115b6de95f32",
   "metadata": {},
   "outputs": [
    {
     "data": {
      "text/plain": [
       "array(['Alto', 'Grand', 'i20', 'Ecosport', 'Wagon R', 'i10', 'Venue',\n",
       "       'Swift', 'Verna', 'Duster', 'Cooper', 'Ciaz', 'C-Class', 'Innova',\n",
       "       'Baleno', 'Swift Dzire', 'Vento', 'Creta', 'City', 'Bolero',\n",
       "       'Fortuner', 'KWID', 'Amaze', 'Santro', 'XUV500', 'KUV100', 'Ignis',\n",
       "       'RediGO', 'Scorpio', 'Marazzo', 'Aspire', 'Figo', 'Vitara',\n",
       "       'Tiago', 'Polo', 'Seltos', 'Celerio', 'GO', '5', 'CR-V',\n",
       "       'Endeavour', 'KUV', 'Jazz', '3', 'A4', 'Tigor', 'Ertiga', 'Safari',\n",
       "       'Thar', 'Hexa', 'Rover', 'Eeco', 'A6', 'E-Class', 'Q7', 'Z4', '6',\n",
       "       'XF', 'X5', 'Hector', 'Civic', 'D-Max', 'Cayenne', 'X1', 'Rapid',\n",
       "       'Freestyle', 'Superb', 'Nexon', 'XUV300', 'Dzire VXI', 'S90',\n",
       "       'WR-V', 'XL6', 'Triber', 'ES', 'Wrangler', 'Camry', 'Elantra',\n",
       "       'Yaris', 'GL-Class', '7', 'S-Presso', 'Dzire LXI', 'Aura', 'XC',\n",
       "       'Ghibli', 'Continental', 'CR', 'Kicks', 'S-Class', 'Tucson',\n",
       "       'Harrier', 'X3', 'Octavia', 'Compass', 'CLS', 'redi-GO', 'Glanza',\n",
       "       'Macan', 'X4', 'Dzire ZXI', 'XC90', 'F-PACE', 'A8', 'MUX',\n",
       "       'GTC4Lusso', 'GLS', 'X-Trail', 'XE', 'XC60', 'Panamera', 'Alturas',\n",
       "       'Altroz', 'NX', 'Carnival', 'C', 'RX', 'Ghost', 'Quattroporte',\n",
       "       'Gurkha'], dtype=object)"
      ]
     },
     "execution_count": 5,
     "metadata": {},
     "output_type": "execute_result"
    }
   ],
   "source": [
    "df['model'].unique()"
   ]
  },
  {
   "cell_type": "code",
   "execution_count": 6,
   "id": "6caf05d7-1dd6-4965-b973-ddeef5916008",
   "metadata": {},
   "outputs": [
    {
     "data": {
      "text/plain": [
       "dtype('O')"
      ]
     },
     "execution_count": 6,
     "metadata": {},
     "output_type": "execute_result"
    }
   ],
   "source": [
    "df['model'].dtype"
   ]
  },
  {
   "cell_type": "markdown",
   "id": "ee313ea1-e46e-4d9c-bb94-6b597f4a1808",
   "metadata": {},
   "source": [
    "### Getting all types of features"
   ]
  },
  {
   "cell_type": "code",
   "execution_count": 7,
   "id": "355ed8c0-c02f-4117-8892-f8390a7004cd",
   "metadata": {},
   "outputs": [],
   "source": [
    "# Numerical data\n",
    "numerical_data = [feature for feature in df.columns if df[feature].dtype != 'O']\n",
    "\n",
    "# categorical data\n",
    "cat_data = [feature for feature in df.columns if df[feature].dtype == 'O']\n",
    "\n",
    "# discrete data\n",
    "dis_data = [feature for feature in numerical_data if len(df[feature].unique()) <= 25]\n",
    "\n",
    "# continues data\n",
    "continuous_data = [feature for feature in numerical_data if feature not in dis_data]"
   ]
  },
  {
   "cell_type": "code",
   "execution_count": 8,
   "id": "f1998e74-574a-48bb-a561-014a4775ebdd",
   "metadata": {},
   "outputs": [],
   "source": [
    "from sklearn.model_selection import train_test_split\n",
    "\n",
    "x = df.drop('selling_price', axis=1)\n",
    "y = df['selling_price']"
   ]
  },
  {
   "cell_type": "code",
   "execution_count": 9,
   "id": "62f11161-0171-4857-976b-da97f7f926b7",
   "metadata": {},
   "outputs": [
    {
     "data": {
      "text/html": [
       "<div>\n",
       "<style scoped>\n",
       "    .dataframe tbody tr th:only-of-type {\n",
       "        vertical-align: middle;\n",
       "    }\n",
       "\n",
       "    .dataframe tbody tr th {\n",
       "        vertical-align: top;\n",
       "    }\n",
       "\n",
       "    .dataframe thead th {\n",
       "        text-align: right;\n",
       "    }\n",
       "</style>\n",
       "<table border=\"1\" class=\"dataframe\">\n",
       "  <thead>\n",
       "    <tr style=\"text-align: right;\">\n",
       "      <th></th>\n",
       "      <th>model</th>\n",
       "      <th>vehicle_age</th>\n",
       "      <th>km_driven</th>\n",
       "      <th>seller_type</th>\n",
       "      <th>fuel_type</th>\n",
       "      <th>transmission_type</th>\n",
       "      <th>mileage</th>\n",
       "      <th>engine</th>\n",
       "      <th>max_power</th>\n",
       "      <th>seats</th>\n",
       "    </tr>\n",
       "  </thead>\n",
       "  <tbody>\n",
       "    <tr>\n",
       "      <th>0</th>\n",
       "      <td>Alto</td>\n",
       "      <td>9</td>\n",
       "      <td>120000</td>\n",
       "      <td>Individual</td>\n",
       "      <td>Petrol</td>\n",
       "      <td>Manual</td>\n",
       "      <td>19.70</td>\n",
       "      <td>796</td>\n",
       "      <td>46.30</td>\n",
       "      <td>5</td>\n",
       "    </tr>\n",
       "    <tr>\n",
       "      <th>1</th>\n",
       "      <td>Grand</td>\n",
       "      <td>5</td>\n",
       "      <td>20000</td>\n",
       "      <td>Individual</td>\n",
       "      <td>Petrol</td>\n",
       "      <td>Manual</td>\n",
       "      <td>18.90</td>\n",
       "      <td>1197</td>\n",
       "      <td>82.00</td>\n",
       "      <td>5</td>\n",
       "    </tr>\n",
       "    <tr>\n",
       "      <th>2</th>\n",
       "      <td>i20</td>\n",
       "      <td>11</td>\n",
       "      <td>60000</td>\n",
       "      <td>Individual</td>\n",
       "      <td>Petrol</td>\n",
       "      <td>Manual</td>\n",
       "      <td>17.00</td>\n",
       "      <td>1197</td>\n",
       "      <td>80.00</td>\n",
       "      <td>5</td>\n",
       "    </tr>\n",
       "    <tr>\n",
       "      <th>3</th>\n",
       "      <td>Alto</td>\n",
       "      <td>9</td>\n",
       "      <td>37000</td>\n",
       "      <td>Individual</td>\n",
       "      <td>Petrol</td>\n",
       "      <td>Manual</td>\n",
       "      <td>20.92</td>\n",
       "      <td>998</td>\n",
       "      <td>67.10</td>\n",
       "      <td>5</td>\n",
       "    </tr>\n",
       "    <tr>\n",
       "      <th>4</th>\n",
       "      <td>Ecosport</td>\n",
       "      <td>6</td>\n",
       "      <td>30000</td>\n",
       "      <td>Dealer</td>\n",
       "      <td>Diesel</td>\n",
       "      <td>Manual</td>\n",
       "      <td>22.77</td>\n",
       "      <td>1498</td>\n",
       "      <td>98.59</td>\n",
       "      <td>5</td>\n",
       "    </tr>\n",
       "    <tr>\n",
       "      <th>...</th>\n",
       "      <td>...</td>\n",
       "      <td>...</td>\n",
       "      <td>...</td>\n",
       "      <td>...</td>\n",
       "      <td>...</td>\n",
       "      <td>...</td>\n",
       "      <td>...</td>\n",
       "      <td>...</td>\n",
       "      <td>...</td>\n",
       "      <td>...</td>\n",
       "    </tr>\n",
       "    <tr>\n",
       "      <th>15406</th>\n",
       "      <td>i10</td>\n",
       "      <td>9</td>\n",
       "      <td>10723</td>\n",
       "      <td>Dealer</td>\n",
       "      <td>Petrol</td>\n",
       "      <td>Manual</td>\n",
       "      <td>19.81</td>\n",
       "      <td>1086</td>\n",
       "      <td>68.05</td>\n",
       "      <td>5</td>\n",
       "    </tr>\n",
       "    <tr>\n",
       "      <th>15407</th>\n",
       "      <td>Ertiga</td>\n",
       "      <td>2</td>\n",
       "      <td>18000</td>\n",
       "      <td>Dealer</td>\n",
       "      <td>Petrol</td>\n",
       "      <td>Manual</td>\n",
       "      <td>17.50</td>\n",
       "      <td>1373</td>\n",
       "      <td>91.10</td>\n",
       "      <td>7</td>\n",
       "    </tr>\n",
       "    <tr>\n",
       "      <th>15408</th>\n",
       "      <td>Rapid</td>\n",
       "      <td>6</td>\n",
       "      <td>67000</td>\n",
       "      <td>Dealer</td>\n",
       "      <td>Diesel</td>\n",
       "      <td>Manual</td>\n",
       "      <td>21.14</td>\n",
       "      <td>1498</td>\n",
       "      <td>103.52</td>\n",
       "      <td>5</td>\n",
       "    </tr>\n",
       "    <tr>\n",
       "      <th>15409</th>\n",
       "      <td>XUV500</td>\n",
       "      <td>5</td>\n",
       "      <td>3800000</td>\n",
       "      <td>Dealer</td>\n",
       "      <td>Diesel</td>\n",
       "      <td>Manual</td>\n",
       "      <td>16.00</td>\n",
       "      <td>2179</td>\n",
       "      <td>140.00</td>\n",
       "      <td>7</td>\n",
       "    </tr>\n",
       "    <tr>\n",
       "      <th>15410</th>\n",
       "      <td>City</td>\n",
       "      <td>2</td>\n",
       "      <td>13000</td>\n",
       "      <td>Dealer</td>\n",
       "      <td>Petrol</td>\n",
       "      <td>Automatic</td>\n",
       "      <td>18.00</td>\n",
       "      <td>1497</td>\n",
       "      <td>117.60</td>\n",
       "      <td>5</td>\n",
       "    </tr>\n",
       "  </tbody>\n",
       "</table>\n",
       "<p>15411 rows × 10 columns</p>\n",
       "</div>"
      ],
      "text/plain": [
       "          model  vehicle_age  km_driven seller_type fuel_type  \\\n",
       "0          Alto            9     120000  Individual    Petrol   \n",
       "1         Grand            5      20000  Individual    Petrol   \n",
       "2           i20           11      60000  Individual    Petrol   \n",
       "3          Alto            9      37000  Individual    Petrol   \n",
       "4      Ecosport            6      30000      Dealer    Diesel   \n",
       "...         ...          ...        ...         ...       ...   \n",
       "15406       i10            9      10723      Dealer    Petrol   \n",
       "15407    Ertiga            2      18000      Dealer    Petrol   \n",
       "15408     Rapid            6      67000      Dealer    Diesel   \n",
       "15409    XUV500            5    3800000      Dealer    Diesel   \n",
       "15410      City            2      13000      Dealer    Petrol   \n",
       "\n",
       "      transmission_type  mileage  engine  max_power  seats  \n",
       "0                Manual    19.70     796      46.30      5  \n",
       "1                Manual    18.90    1197      82.00      5  \n",
       "2                Manual    17.00    1197      80.00      5  \n",
       "3                Manual    20.92     998      67.10      5  \n",
       "4                Manual    22.77    1498      98.59      5  \n",
       "...                 ...      ...     ...        ...    ...  \n",
       "15406            Manual    19.81    1086      68.05      5  \n",
       "15407            Manual    17.50    1373      91.10      7  \n",
       "15408            Manual    21.14    1498     103.52      5  \n",
       "15409            Manual    16.00    2179     140.00      7  \n",
       "15410         Automatic    18.00    1497     117.60      5  \n",
       "\n",
       "[15411 rows x 10 columns]"
      ]
     },
     "execution_count": 9,
     "metadata": {},
     "output_type": "execute_result"
    }
   ],
   "source": [
    "x"
   ]
  },
  {
   "cell_type": "code",
   "execution_count": 10,
   "id": "e323c488-e8bb-4df2-8eb4-928b6878962e",
   "metadata": {},
   "outputs": [
    {
     "data": {
      "text/plain": [
       "0         120000\n",
       "1         550000\n",
       "2         215000\n",
       "3         226000\n",
       "4         570000\n",
       "          ...   \n",
       "15406     250000\n",
       "15407     925000\n",
       "15408     425000\n",
       "15409    1225000\n",
       "15410    1200000\n",
       "Name: selling_price, Length: 15411, dtype: int64"
      ]
     },
     "execution_count": 10,
     "metadata": {},
     "output_type": "execute_result"
    }
   ],
   "source": [
    "y"
   ]
  },
  {
   "cell_type": "code",
   "execution_count": null,
   "id": "a8486fda-74f0-40f5-b86e-3d285afe0105",
   "metadata": {},
   "outputs": [],
   "source": []
  },
  {
   "cell_type": "markdown",
   "id": "298ac30b-b4e6-40ae-98a4-546ddb2eff5d",
   "metadata": {},
   "source": [
    "### Feature Encoding and Scaling"
   ]
  },
  {
   "cell_type": "code",
   "execution_count": 11,
   "id": "348af7bf-dc74-4d9d-85ba-b6d1bae30bd0",
   "metadata": {},
   "outputs": [
    {
     "data": {
      "text/html": [
       "<div>\n",
       "<style scoped>\n",
       "    .dataframe tbody tr th:only-of-type {\n",
       "        vertical-align: middle;\n",
       "    }\n",
       "\n",
       "    .dataframe tbody tr th {\n",
       "        vertical-align: top;\n",
       "    }\n",
       "\n",
       "    .dataframe thead th {\n",
       "        text-align: right;\n",
       "    }\n",
       "</style>\n",
       "<table border=\"1\" class=\"dataframe\">\n",
       "  <thead>\n",
       "    <tr style=\"text-align: right;\">\n",
       "      <th></th>\n",
       "      <th>model</th>\n",
       "      <th>vehicle_age</th>\n",
       "      <th>km_driven</th>\n",
       "      <th>seller_type</th>\n",
       "      <th>fuel_type</th>\n",
       "      <th>transmission_type</th>\n",
       "      <th>mileage</th>\n",
       "      <th>engine</th>\n",
       "      <th>max_power</th>\n",
       "      <th>seats</th>\n",
       "      <th>selling_price</th>\n",
       "    </tr>\n",
       "  </thead>\n",
       "  <tbody>\n",
       "    <tr>\n",
       "      <th>0</th>\n",
       "      <td>Alto</td>\n",
       "      <td>9</td>\n",
       "      <td>120000</td>\n",
       "      <td>Individual</td>\n",
       "      <td>Petrol</td>\n",
       "      <td>Manual</td>\n",
       "      <td>19.70</td>\n",
       "      <td>796</td>\n",
       "      <td>46.30</td>\n",
       "      <td>5</td>\n",
       "      <td>120000</td>\n",
       "    </tr>\n",
       "    <tr>\n",
       "      <th>1</th>\n",
       "      <td>Grand</td>\n",
       "      <td>5</td>\n",
       "      <td>20000</td>\n",
       "      <td>Individual</td>\n",
       "      <td>Petrol</td>\n",
       "      <td>Manual</td>\n",
       "      <td>18.90</td>\n",
       "      <td>1197</td>\n",
       "      <td>82.00</td>\n",
       "      <td>5</td>\n",
       "      <td>550000</td>\n",
       "    </tr>\n",
       "    <tr>\n",
       "      <th>2</th>\n",
       "      <td>i20</td>\n",
       "      <td>11</td>\n",
       "      <td>60000</td>\n",
       "      <td>Individual</td>\n",
       "      <td>Petrol</td>\n",
       "      <td>Manual</td>\n",
       "      <td>17.00</td>\n",
       "      <td>1197</td>\n",
       "      <td>80.00</td>\n",
       "      <td>5</td>\n",
       "      <td>215000</td>\n",
       "    </tr>\n",
       "    <tr>\n",
       "      <th>3</th>\n",
       "      <td>Alto</td>\n",
       "      <td>9</td>\n",
       "      <td>37000</td>\n",
       "      <td>Individual</td>\n",
       "      <td>Petrol</td>\n",
       "      <td>Manual</td>\n",
       "      <td>20.92</td>\n",
       "      <td>998</td>\n",
       "      <td>67.10</td>\n",
       "      <td>5</td>\n",
       "      <td>226000</td>\n",
       "    </tr>\n",
       "    <tr>\n",
       "      <th>4</th>\n",
       "      <td>Ecosport</td>\n",
       "      <td>6</td>\n",
       "      <td>30000</td>\n",
       "      <td>Dealer</td>\n",
       "      <td>Diesel</td>\n",
       "      <td>Manual</td>\n",
       "      <td>22.77</td>\n",
       "      <td>1498</td>\n",
       "      <td>98.59</td>\n",
       "      <td>5</td>\n",
       "      <td>570000</td>\n",
       "    </tr>\n",
       "  </tbody>\n",
       "</table>\n",
       "</div>"
      ],
      "text/plain": [
       "      model  vehicle_age  km_driven seller_type fuel_type transmission_type  \\\n",
       "0      Alto            9     120000  Individual    Petrol            Manual   \n",
       "1     Grand            5      20000  Individual    Petrol            Manual   \n",
       "2       i20           11      60000  Individual    Petrol            Manual   \n",
       "3      Alto            9      37000  Individual    Petrol            Manual   \n",
       "4  Ecosport            6      30000      Dealer    Diesel            Manual   \n",
       "\n",
       "   mileage  engine  max_power  seats  selling_price  \n",
       "0    19.70     796      46.30      5         120000  \n",
       "1    18.90    1197      82.00      5         550000  \n",
       "2    17.00    1197      80.00      5         215000  \n",
       "3    20.92     998      67.10      5         226000  \n",
       "4    22.77    1498      98.59      5         570000  "
      ]
     },
     "execution_count": 11,
     "metadata": {},
     "output_type": "execute_result"
    }
   ],
   "source": [
    "df.head()"
   ]
  },
  {
   "cell_type": "code",
   "execution_count": 12,
   "id": "22eac747-0924-496f-9325-57521a0d39ca",
   "metadata": {},
   "outputs": [
    {
     "data": {
      "text/plain": [
       "120"
      ]
     },
     "execution_count": 12,
     "metadata": {},
     "output_type": "execute_result"
    }
   ],
   "source": [
    "len(df['model'].unique())"
   ]
  },
  {
   "cell_type": "code",
   "execution_count": 13,
   "id": "e37bf547-1908-439d-a2a6-d3b07747a9ee",
   "metadata": {},
   "outputs": [],
   "source": [
    "from sklearn.preprocessing import LabelEncoder"
   ]
  },
  {
   "cell_type": "code",
   "execution_count": 14,
   "id": "1c73cfa2-a3c5-4716-9c1a-04d31a8433fd",
   "metadata": {},
   "outputs": [],
   "source": [
    "le = LabelEncoder()"
   ]
  },
  {
   "cell_type": "code",
   "execution_count": 15,
   "id": "e9071539-d8a9-47a6-b2b8-014c55414c46",
   "metadata": {},
   "outputs": [],
   "source": [
    "x['model'] = le.fit_transform(x['model'])"
   ]
  },
  {
   "cell_type": "code",
   "execution_count": 16,
   "id": "00361331-04da-4772-a57f-643f05546444",
   "metadata": {},
   "outputs": [
    {
     "data": {
      "text/plain": [
       "array([  7,  54, 118,  38, 100, 117,  96,  88,  97,  32,  29,  24,  16,\n",
       "        60,  13,  89,  95,  30,  25,  14,  45,  64,  10,  84, 114,  63,\n",
       "        59,  78,  85,  68,  11,  44,  98,  91,  73,  86,  23,  49,   1,\n",
       "        19,  41,  62,  61,   0,   4,  92,  42,  83,  90,  58,  79,  39,\n",
       "         5,  36,  74, 116,   2, 111, 106,  57,  26,  31,  22, 103,  77,\n",
       "        46,  87,  70, 113,  34,  82,  99, 112,  93,  37, 101,  20,  40,\n",
       "       115,  47,   3,  81,  33,  12, 107,  51,  28,  18,  65,  80,  94,\n",
       "        56, 104,  71,  27,  17, 119,  53,  67, 105,  35, 109,  43,   6,\n",
       "        66,  50,  48, 102, 110, 108,  72,   9,   8,  69,  21,  15,  76,\n",
       "        52,  75,  55])"
      ]
     },
     "execution_count": 16,
     "metadata": {},
     "output_type": "execute_result"
    }
   ],
   "source": [
    "(x['model'].unique())"
   ]
  },
  {
   "cell_type": "code",
   "execution_count": 17,
   "id": "20509b7e-3a04-4525-96ef-4cfd2eb8f904",
   "metadata": {},
   "outputs": [
    {
     "data": {
      "text/plain": [
       "array(['3', '5', '6', '7', 'A4', 'A6', 'A8', 'Alto', 'Altroz', 'Alturas',\n",
       "       'Amaze', 'Aspire', 'Aura', 'Baleno', 'Bolero', 'C', 'C-Class',\n",
       "       'CLS', 'CR', 'CR-V', 'Camry', 'Carnival', 'Cayenne', 'Celerio',\n",
       "       'Ciaz', 'City', 'Civic', 'Compass', 'Continental', 'Cooper',\n",
       "       'Creta', 'D-Max', 'Duster', 'Dzire LXI', 'Dzire VXI', 'Dzire ZXI',\n",
       "       'E-Class', 'ES', 'Ecosport', 'Eeco', 'Elantra', 'Endeavour',\n",
       "       'Ertiga', 'F-PACE', 'Figo', 'Fortuner', 'Freestyle', 'GL-Class',\n",
       "       'GLS', 'GO', 'GTC4Lusso', 'Ghibli', 'Ghost', 'Glanza', 'Grand',\n",
       "       'Gurkha', 'Harrier', 'Hector', 'Hexa', 'Ignis', 'Innova', 'Jazz',\n",
       "       'KUV', 'KUV100', 'KWID', 'Kicks', 'MUX', 'Macan', 'Marazzo', 'NX',\n",
       "       'Nexon', 'Octavia', 'Panamera', 'Polo', 'Q7', 'Quattroporte', 'RX',\n",
       "       'Rapid', 'RediGO', 'Rover', 'S-Class', 'S-Presso', 'S90', 'Safari',\n",
       "       'Santro', 'Scorpio', 'Seltos', 'Superb', 'Swift', 'Swift Dzire',\n",
       "       'Thar', 'Tiago', 'Tigor', 'Triber', 'Tucson', 'Vento', 'Venue',\n",
       "       'Verna', 'Vitara', 'WR-V', 'Wagon R', 'Wrangler', 'X-Trail', 'X1',\n",
       "       'X3', 'X4', 'X5', 'XC', 'XC60', 'XC90', 'XE', 'XF', 'XL6',\n",
       "       'XUV300', 'XUV500', 'Yaris', 'Z4', 'i10', 'i20', 'redi-GO'],\n",
       "      dtype=object)"
      ]
     },
     "execution_count": 17,
     "metadata": {},
     "output_type": "execute_result"
    }
   ],
   "source": [
    "le.classes_ # no of categories"
   ]
  },
  {
   "cell_type": "code",
   "execution_count": 18,
   "id": "97a05b50-7323-48de-93bf-ea54a63b1292",
   "metadata": {},
   "outputs": [
    {
     "name": "stdout",
     "output_type": "stream",
     "text": [
      "3\n",
      "5\n",
      "2\n"
     ]
    }
   ],
   "source": [
    "print(len(df['seller_type'].unique()))\n",
    "print(len(df['fuel_type'].unique()))\n",
    "print(len(df['transmission_type'].unique()))"
   ]
  },
  {
   "cell_type": "code",
   "execution_count": 19,
   "id": "ec0d3a93-125a-4809-a2e5-50e210561220",
   "metadata": {},
   "outputs": [],
   "source": [
    "# One hote encoding on seller_type, fuel_type and transmission_type as they have less number of categories"
   ]
  },
  {
   "cell_type": "code",
   "execution_count": 20,
   "id": "41f3612f-f887-4808-af1b-4aa3cfc9ef8c",
   "metadata": {},
   "outputs": [],
   "source": [
    "# Creating Column tranformer"
   ]
  },
  {
   "cell_type": "code",
   "execution_count": 21,
   "id": "1e09f077-6c00-4828-a47a-c0babde4631a",
   "metadata": {},
   "outputs": [],
   "source": [
    "from sklearn.preprocessing import OneHotEncoder, StandardScaler\n",
    "from sklearn.compose import ColumnTransformer\n",
    "\n",
    "num_features = x.select_dtypes(exclude='object').columns\n",
    "onehot_columns = ['seller_type', 'fuel_type', 'transmission_type']\n",
    "\n",
    "scaler = StandardScaler()\n",
    "oh_transformer = OneHotEncoder(drop='first')\n",
    "\n",
    "preprocessor = ColumnTransformer(\n",
    "    [\n",
    "        ('OneHotTransformer', oh_transformer, onehot_columns),\n",
    "        ('Standard Scalar', scaler, num_features)\n",
    "    ], remainder='passthrough'\n",
    ")"
   ]
  },
  {
   "cell_type": "code",
   "execution_count": 22,
   "id": "8de3768a-ca73-44d7-bbc6-0ba509aca446",
   "metadata": {},
   "outputs": [],
   "source": [
    "x = preprocessor.fit_transform(x)"
   ]
  },
  {
   "cell_type": "code",
   "execution_count": 23,
   "id": "5fe279ce-3164-4d1a-8b38-028bd0995255",
   "metadata": {},
   "outputs": [],
   "source": [
    "x_train, x_test, y_train, y_test = train_test_split(x, y, test_size=0.25, random_state=42)"
   ]
  },
  {
   "cell_type": "code",
   "execution_count": 24,
   "id": "6e424305-ddac-4ee3-98f9-e53876746f31",
   "metadata": {},
   "outputs": [
    {
     "data": {
      "text/plain": [
       "array([[ 0.        ,  0.        ,  0.        , ..., -0.76773286,\n",
       "        -0.89566754, -0.40302241],\n",
       "       [ 0.        ,  0.        ,  1.        , ...,  0.92487372,\n",
       "         0.9404295 , -0.40302241],\n",
       "       [ 0.        ,  0.        ,  0.        , ..., -0.55087963,\n",
       "        -0.61874036, -0.40302241],\n",
       "       ...,\n",
       "       [ 1.        ,  0.        ,  0.        , ..., -0.9366097 ,\n",
       "        -0.78070786, -0.40302241],\n",
       "       [ 0.        ,  0.        ,  0.        , ..., -0.55471774,\n",
       "        -0.43582879, -0.40302241],\n",
       "       [ 1.        ,  0.        ,  0.        , ..., -0.04616815,\n",
       "         0.06194201, -0.40302241]], shape=(11558, 14))"
      ]
     },
     "execution_count": 24,
     "metadata": {},
     "output_type": "execute_result"
    }
   ],
   "source": [
    "x_train"
   ]
  },
  {
   "cell_type": "code",
   "execution_count": 25,
   "id": "b45262f1-55fa-4e6c-afeb-91be428c98de",
   "metadata": {},
   "outputs": [],
   "source": [
    "from sklearn.ensemble import RandomForestRegressor\n",
    "from sklearn.linear_model import Ridge, Lasso, LinearRegression\n",
    "from sklearn.neighbors import KNeighborsRegressor\n",
    "from sklearn.tree import DecisionTreeRegressor\n",
    "from sklearn.metrics import r2_score, mean_absolute_error, mean_squared_error"
   ]
  },
  {
   "cell_type": "code",
   "execution_count": 35,
   "id": "5761b602-7b57-4d9c-a50b-e3c346dbb04a",
   "metadata": {},
   "outputs": [],
   "source": [
    "def evaluate_model(true, predicted):\n",
    "    mae = mean_absolute_error(true, predicted)\n",
    "    mse = mean_squared_error(true, predicted)\n",
    "    rmse = np.sqrt(mean_squared_error(true, predicted))\n",
    "    r2 = r2_score(true, predicted)\n",
    "\n",
    "    return mae, mse, rmse, r2"
   ]
  },
  {
   "cell_type": "markdown",
   "id": "ab4648ca-2729-40ea-abb5-8ea71575f7a8",
   "metadata": {},
   "source": [
    "### Model Training"
   ]
  },
  {
   "cell_type": "code",
   "execution_count": 39,
   "id": "c1e74d57-9fe9-4eb8-91b7-ab5d53f94c33",
   "metadata": {},
   "outputs": [
    {
     "name": "stdout",
     "output_type": "stream",
     "text": [
      "\n",
      "Linear Regression\n",
      "\n",
      "------------training set---------------\n",
      "MEA Train:  266675.1075542505\n",
      "MSE Train:  304874315292.8461\n",
      "RMSE Train:  552154.249547032\n",
      "r2_score Train:  0.6219860307551311\n",
      "------------test set---------------\n",
      "MEA Test:  284283.44595338294\n",
      "MSE Test:  270286925822.75293\n",
      "RMSE Test:  519891.26346069033\n",
      "r2_score Test:  0.6524693637784766\n",
      "\n",
      "Ridge\n",
      "\n",
      "------------training set---------------\n",
      "MEA Train:  266635.36623235425\n",
      "MSE Train:  304875008766.8082\n",
      "RMSE Train:  552154.877517901\n",
      "r2_score Train:  0.6219851709160702\n",
      "------------test set---------------\n",
      "MEA Test:  284241.11291362543\n",
      "MSE Test:  270275613895.96542\n",
      "RMSE Test:  519880.38421926\n",
      "r2_score Test:  0.6524839084742713\n",
      "\n",
      "Lasso\n",
      "\n",
      "------------training set---------------\n",
      "MEA Train:  266674.04718300886\n",
      "MSE Train:  304874327628.1807\n",
      "RMSE Train:  552154.2607172208\n",
      "r2_score Train:  0.6219860154605374\n",
      "------------test set---------------\n",
      "MEA Test:  284283.7889963272\n",
      "MSE Test:  270286207881.65326\n",
      "RMSE Test:  519890.5729878676\n",
      "r2_score Test:  0.6524702868957395\n",
      "\n",
      "KNN\n",
      "\n",
      "------------training set---------------\n",
      "MEA Train:  90967.36459595086\n",
      "MSE Train:  108579261318.56723\n",
      "RMSE Train:  329513.6739477851\n",
      "r2_score Train:  0.8653724650130585\n",
      "------------test set---------------\n",
      "MEA Test:  116579.3732156761\n",
      "MSE Test:  78779566186.25098\n",
      "RMSE Test:  280676.97836881987\n",
      "r2_score Test:  0.8987064850635158\n",
      "\n",
      "Decision\n",
      "\n",
      "------------training set---------------\n",
      "MEA Train:  4991.751744823211\n",
      "MSE Train:  426210181.9807348\n",
      "RMSE Train:  20644.85848778661\n",
      "r2_score Train:  0.999471541567979\n",
      "------------test set---------------\n",
      "MEA Test:  132656.62903365341\n",
      "MSE Test:  96144154961.73618\n",
      "RMSE Test:  310071.2095015211\n",
      "r2_score Test:  0.8763793726199531\n",
      "\n",
      "rf\n",
      "\n",
      "------------training set---------------\n",
      "MEA Train:  40015.124249858505\n",
      "MSE Train:  18624888467.79117\n",
      "RMSE Train:  136473.03201655325\n",
      "r2_score Train:  0.9769069821126453\n",
      "------------test set---------------\n",
      "MEA Test:  105258.71282799877\n",
      "MSE Test:  57572424073.48825\n",
      "RMSE Test:  239942.54327544387\n",
      "r2_score Test:  0.9259742915563901\n"
     ]
    }
   ],
   "source": [
    "models = {\n",
    "    'Linear Regression' : LinearRegression(),\n",
    "    'Ridge' : Ridge(),\n",
    "    'Lasso' : Lasso(),\n",
    "    'KNN' : KNeighborsRegressor(),\n",
    "    'Decision' : DecisionTreeRegressor(),\n",
    "    'rf' : RandomForestRegressor()\n",
    "}\n",
    "\n",
    "for i in range(len(list(models))):\n",
    "    model = list(models.values())[i]\n",
    "\n",
    "    model.fit(x_train, y_train)\n",
    "\n",
    "    # Prediction for train and test\n",
    "    y_train_pred = model.predict(x_train)\n",
    "    y_test_pred  = model.predict(x_test)\n",
    "\n",
    "    # Evaluate the model \n",
    "    mea_train, mse_train, rmse_train, r2_score_train = evaluate_model(y_train, y_train_pred)\n",
    "    mea_test, mse_test, rmse_test, r2_score_test = evaluate_model(y_test, y_test_pred)\n",
    "\n",
    "    # final output :\n",
    "    \n",
    "    print()\n",
    "    print(list(models.keys())[i])\n",
    "    print()\n",
    "    print('------------training set---------------')\n",
    "    print(\"MEA Train: \", mea_train)\n",
    "    print(\"MSE Train: \", mse_train)\n",
    "    print(\"RMSE Train: \", rmse_train)\n",
    "    print(\"r2_score Train: \", r2_score_train)\n",
    "\n",
    "    \n",
    "    print('------------test set---------------')\n",
    "    print(\"MEA Test: \", mea_test)\n",
    "    print(\"MSE Test: \", mse_test)\n",
    "    print(\"RMSE Test: \", rmse_test)\n",
    "    print(\"r2_score Test: \", r2_score_test)"
   ]
  },
  {
   "cell_type": "code",
   "execution_count": null,
   "id": "307e4edf-8f62-4f84-934c-36499cc956d9",
   "metadata": {},
   "outputs": [],
   "source": [
    "list(models.values())"
   ]
  },
  {
   "cell_type": "code",
   "execution_count": null,
   "id": "8afa7800-c34b-4421-b0f5-75fbea5f68ac",
   "metadata": {},
   "outputs": [],
   "source": [
    "x_train"
   ]
  },
  {
   "cell_type": "code",
   "execution_count": null,
   "id": "ed29fb78-e0e5-4a5f-a5d1-000563ff8f09",
   "metadata": {},
   "outputs": [],
   "source": [
    "y_train"
   ]
  },
  {
   "cell_type": "code",
   "execution_count": 38,
   "id": "8a990dd2-1757-4a53-b973-d12b261f6110",
   "metadata": {},
   "outputs": [],
   "source": [
    "# Hyperparameter for two best models : knn and rf"
   ]
  },
  {
   "cell_type": "code",
   "execution_count": 40,
   "id": "d0716dcc-3ba8-41fb-b6c9-186c44b6882d",
   "metadata": {},
   "outputs": [],
   "source": [
    "knn_params = {\n",
    "    'n_neighbors' : [2, 3, 10, 20, 40, 50]\n",
    "}\n",
    "rf_params = {\n",
    "    'max_depth' : [5, 8, 15, None, 10],\n",
    "    'max_features' : [5, 7, 'auto', 8],\n",
    "    'min_samples_split' : [2, 8, 15, 20],\n",
    "    'n_estimators' : [100, 200, 500, 1000]\n",
    "}"
   ]
  },
  {
   "cell_type": "code",
   "execution_count": 44,
   "id": "991ee4bb-f578-4663-92c1-2451da8d0133",
   "metadata": {},
   "outputs": [],
   "source": [
    "randomcv_models = [\n",
    "    ('knn', KNeighborsRegressor(), knn_params),\n",
    "    ('rf', RandomForestRegressor(), rf_params)\n",
    "]"
   ]
  },
  {
   "cell_type": "code",
   "execution_count": 42,
   "id": "d8dc764e-799b-4433-9a62-3aff1ae85a74",
   "metadata": {},
   "outputs": [],
   "source": [
    "from sklearn.model_selection import RandomizedSearchCV"
   ]
  },
  {
   "cell_type": "code",
   "execution_count": 45,
   "id": "8baa89c6-43a8-4e51-9c43-da74cffab02b",
   "metadata": {},
   "outputs": [
    {
     "name": "stderr",
     "output_type": "stream",
     "text": [
      "H:\\Python-all-in-one\\ML-algorithams\\myenv\\Lib\\site-packages\\sklearn\\model_selection\\_search.py:317: UserWarning: The total space of parameters 6 is smaller than n_iter=100. Running 6 iterations. For exhaustive searches, use GridSearchCV.\n",
      "  warnings.warn(\n"
     ]
    },
    {
     "name": "stdout",
     "output_type": "stream",
     "text": [
      "Fitting 3 folds for each of 6 candidates, totalling 18 fits\n",
      "Fitting 3 folds for each of 100 candidates, totalling 300 fits\n"
     ]
    },
    {
     "name": "stderr",
     "output_type": "stream",
     "text": [
      "H:\\Python-all-in-one\\ML-algorithams\\myenv\\Lib\\site-packages\\sklearn\\model_selection\\_validation.py:528: FitFailedWarning: \n",
      "60 fits failed out of a total of 300.\n",
      "The score on these train-test partitions for these parameters will be set to nan.\n",
      "If these failures are not expected, you can try to debug them by setting error_score='raise'.\n",
      "\n",
      "Below are more details about the failures:\n",
      "--------------------------------------------------------------------------------\n",
      "30 fits failed with the following error:\n",
      "Traceback (most recent call last):\n",
      "  File \"H:\\Python-all-in-one\\ML-algorithams\\myenv\\Lib\\site-packages\\sklearn\\model_selection\\_validation.py\", line 866, in _fit_and_score\n",
      "    estimator.fit(X_train, y_train, **fit_params)\n",
      "  File \"H:\\Python-all-in-one\\ML-algorithams\\myenv\\Lib\\site-packages\\sklearn\\base.py\", line 1382, in wrapper\n",
      "    estimator._validate_params()\n",
      "  File \"H:\\Python-all-in-one\\ML-algorithams\\myenv\\Lib\\site-packages\\sklearn\\base.py\", line 436, in _validate_params\n",
      "    validate_parameter_constraints(\n",
      "  File \"H:\\Python-all-in-one\\ML-algorithams\\myenv\\Lib\\site-packages\\sklearn\\utils\\_param_validation.py\", line 98, in validate_parameter_constraints\n",
      "    raise InvalidParameterError(\n",
      "sklearn.utils._param_validation.InvalidParameterError: The 'max_features' parameter of RandomForestRegressor must be an int in the range [1, inf), a float in the range (0.0, 1.0], a str among {'sqrt', 'log2'} or None. Got 'auto' instead.\n",
      "\n",
      "--------------------------------------------------------------------------------\n",
      "30 fits failed with the following error:\n",
      "Traceback (most recent call last):\n",
      "  File \"H:\\Python-all-in-one\\ML-algorithams\\myenv\\Lib\\site-packages\\sklearn\\model_selection\\_validation.py\", line 866, in _fit_and_score\n",
      "    estimator.fit(X_train, y_train, **fit_params)\n",
      "  File \"H:\\Python-all-in-one\\ML-algorithams\\myenv\\Lib\\site-packages\\sklearn\\base.py\", line 1382, in wrapper\n",
      "    estimator._validate_params()\n",
      "  File \"H:\\Python-all-in-one\\ML-algorithams\\myenv\\Lib\\site-packages\\sklearn\\base.py\", line 436, in _validate_params\n",
      "    validate_parameter_constraints(\n",
      "  File \"H:\\Python-all-in-one\\ML-algorithams\\myenv\\Lib\\site-packages\\sklearn\\utils\\_param_validation.py\", line 98, in validate_parameter_constraints\n",
      "    raise InvalidParameterError(\n",
      "sklearn.utils._param_validation.InvalidParameterError: The 'max_features' parameter of RandomForestRegressor must be an int in the range [1, inf), a float in the range (0.0, 1.0], a str among {'log2', 'sqrt'} or None. Got 'auto' instead.\n",
      "\n",
      "  warnings.warn(some_fits_failed_message, FitFailedWarning)\n",
      "H:\\Python-all-in-one\\ML-algorithams\\myenv\\Lib\\site-packages\\sklearn\\model_selection\\_search.py:1108: UserWarning: One or more of the test scores are non-finite: [0.78084426 0.8445094  0.82050773 0.8498614  0.84094289 0.84094198\n",
      " 0.84849649 0.84477509        nan 0.85402266 0.84279342 0.85274319\n",
      "        nan 0.83175383 0.8528115  0.83985069 0.79392822 0.82805175\n",
      " 0.84121108        nan 0.83143659 0.83329982 0.77828785        nan\n",
      " 0.8407966  0.76801905 0.82333531 0.8487963  0.82257472 0.84532565\n",
      "        nan 0.84876343        nan 0.84277187 0.8369072  0.82961656\n",
      " 0.83872071 0.84554854 0.83666832        nan 0.80824359 0.83435864\n",
      " 0.82396416 0.79405174 0.83430871 0.83022779 0.84278075 0.83980888\n",
      " 0.77531755 0.82604335 0.83167508 0.83985962 0.84623657 0.81042066\n",
      " 0.7635411  0.83601321 0.8574139  0.7881618  0.8247109  0.78737943\n",
      " 0.83367532        nan 0.83323348 0.82857152 0.84333043 0.81988528\n",
      " 0.84408858        nan 0.79019843 0.83773784 0.79495042        nan\n",
      "        nan 0.85164552        nan 0.8258797  0.83708795 0.84156006\n",
      " 0.84498777        nan        nan 0.83722438 0.83129429 0.79605274\n",
      "        nan 0.79694928 0.76050511 0.83214922 0.77265067        nan\n",
      " 0.84061158        nan 0.83973756        nan 0.82150317 0.83321262\n",
      " 0.84109559        nan 0.83607503        nan]\n",
      "  warnings.warn(\n"
     ]
    },
    {
     "name": "stdout",
     "output_type": "stream",
     "text": [
      "{'n_neighbors': 10}\n",
      "{'n_estimators': 200, 'min_samples_split': 2, 'max_features': 7, 'max_depth': 10}\n"
     ]
    }
   ],
   "source": [
    "model_params = {}\n",
    "\n",
    "for name, model, param in randomcv_models:\n",
    "    random = RandomizedSearchCV(estimator=model, param_distributions=param, n_iter=100, cv=3, verbose=2, n_jobs=-1)\n",
    "    random.fit(x_train, y_train)\n",
    "    model_params[model] = random.best_params_\n",
    "\n",
    "for model_name in model_params:\n",
    "    print(model_params[model_name])"
   ]
  },
  {
   "cell_type": "code",
   "execution_count": 48,
   "id": "bbe803ec-520d-4207-88f1-d8330269cda0",
   "metadata": {},
   "outputs": [
    {
     "name": "stdout",
     "output_type": "stream",
     "text": [
      "\n",
      "rf\n",
      "\n",
      "------------training set---------------\n",
      "MEA Train:  84259.78993036623\n",
      "MSE Train:  29261621159.747593\n",
      "RMSE Train:  171060.28516212522\n",
      "r2_score Train:  0.9637184865818856\n",
      "------------test set---------------\n",
      "MEA Test:  108936.29935660063\n",
      "MSE Test:  57351116853.02524\n",
      "RMSE Test:  239480.93212827036\n",
      "r2_score Test:  0.926258844865411\n",
      "\n",
      "knn\n",
      "\n",
      "------------training set---------------\n",
      "MEA Train:  102914.24987021976\n",
      "MSE Train:  133640227644.05606\n",
      "RMSE Train:  365568.362476919\n",
      "r2_score Train:  0.8342993477361558\n",
      "------------test set---------------\n",
      "MEA Test:  121765.48793148196\n",
      "MSE Test:  87994611511.97119\n",
      "RMSE Test:  296638.85705006885\n",
      "r2_score Test:  0.8868579261474333\n"
     ]
    }
   ],
   "source": [
    "models = {\n",
    "    'rf' : RandomForestRegressor(n_estimators= 200, min_samples_split=2, max_features=7, max_depth=10),\n",
    "    'knn' : KNeighborsRegressor(n_neighbors=10)\n",
    "}\n",
    "\n",
    "for i in range(len(list(models))):\n",
    "    model = list(models.values())[i]\n",
    "    model.fit(x_train, y_train)\n",
    "\n",
    "    y_train_pred = model.predict(x_train)\n",
    "    y_test_pred = model.predict(x_test)\n",
    "\n",
    "    mea_train, mse_train, rmse_train, r2_score_train = evaluate_model(y_train, y_train_pred)\n",
    "    mea_test, mse_test, rmse_test, r2_score_test = evaluate_model(y_test, y_test_pred)\n",
    "\n",
    "    # final output :\n",
    "    \n",
    "    print()\n",
    "    print(list(models.keys())[i])\n",
    "    print()\n",
    "    print('------------training set---------------')\n",
    "    print(\"MEA Train: \", mea_train)\n",
    "    print(\"MSE Train: \", mse_train)\n",
    "    print(\"RMSE Train: \", rmse_train)\n",
    "    print(\"r2_score Train: \", r2_score_train)\n",
    "\n",
    "    \n",
    "    print('------------test set---------------')\n",
    "    print(\"MEA Test: \", mea_test)\n",
    "    print(\"MSE Test: \", mse_test)\n",
    "    print(\"RMSE Test: \", rmse_test)\n",
    "    print(\"r2_score Test: \", r2_score_test)"
   ]
  },
  {
   "cell_type": "code",
   "execution_count": null,
   "id": "fa8bc7a4-8d6b-43b8-8c07-81dbf52dbed7",
   "metadata": {},
   "outputs": [],
   "source": []
  }
 ],
 "metadata": {
  "kernelspec": {
   "display_name": "Python 3 (ipykernel)",
   "language": "python",
   "name": "python3"
  },
  "language_info": {
   "codemirror_mode": {
    "name": "ipython",
    "version": 3
   },
   "file_extension": ".py",
   "mimetype": "text/x-python",
   "name": "python",
   "nbconvert_exporter": "python",
   "pygments_lexer": "ipython3",
   "version": "3.12.3"
  }
 },
 "nbformat": 4,
 "nbformat_minor": 5
}
