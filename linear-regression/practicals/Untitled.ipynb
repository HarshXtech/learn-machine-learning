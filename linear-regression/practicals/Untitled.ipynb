{
 "cells": [
  {
   "cell_type": "code",
   "execution_count": 9,
   "id": "e7a44e0f-957c-4dbe-8e52-62a5ac03ad17",
   "metadata": {},
   "outputs": [],
   "source": [
    "import numpy as np\n",
    "import matplotlib.pyplot as plt\n",
    "import seaborn as sns"
   ]
  },
  {
   "cell_type": "code",
   "execution_count": 19,
   "id": "de183e50-4137-405b-a5a3-671bcdd1ef79",
   "metadata": {},
   "outputs": [],
   "source": [
    "data = np.random.normal(100, 20, 200)\n",
    "data1 = np.random.normal(110, 15, 200)\n",
    "data2 = np.random.normal(90, 10, 200)"
   ]
  },
  {
   "cell_type": "code",
   "execution_count": 20,
   "id": "a2d223a8-6912-4e4a-8214-d368b77d1fea",
   "metadata": {},
   "outputs": [
    {
     "data": {
      "text/plain": [
       "{'whiskers': [<matplotlib.lines.Line2D at 0x1e1fa6f6000>,\n",
       "  <matplotlib.lines.Line2D at 0x1e1fa6f6240>,\n",
       "  <matplotlib.lines.Line2D at 0x1e1fa6f6e70>,\n",
       "  <matplotlib.lines.Line2D at 0x1e1fa6f70e0>,\n",
       "  <matplotlib.lines.Line2D at 0x1e1fa724230>,\n",
       "  <matplotlib.lines.Line2D at 0x1e1fa724500>],\n",
       " 'caps': [<matplotlib.lines.Line2D at 0x1e1fb7e7ad0>,\n",
       "  <matplotlib.lines.Line2D at 0x1e1fa6f4b60>,\n",
       "  <matplotlib.lines.Line2D at 0x1e1fa6f7380>,\n",
       "  <matplotlib.lines.Line2D at 0x1e1fa6f7650>,\n",
       "  <matplotlib.lines.Line2D at 0x1e1fa7247a0>,\n",
       "  <matplotlib.lines.Line2D at 0x1e1fa724a70>],\n",
       " 'boxes': [<matplotlib.lines.Line2D at 0x1e1fa6d0f20>,\n",
       "  <matplotlib.lines.Line2D at 0x1e1fa6f6b40>,\n",
       "  <matplotlib.lines.Line2D at 0x1e1fa6f7f80>],\n",
       " 'medians': [<matplotlib.lines.Line2D at 0x1e1fa6f65a0>,\n",
       "  <matplotlib.lines.Line2D at 0x1e1fa6f7980>,\n",
       "  <matplotlib.lines.Line2D at 0x1e1fa724d40>],\n",
       " 'fliers': [<matplotlib.lines.Line2D at 0x1e1fa6f68d0>,\n",
       "  <matplotlib.lines.Line2D at 0x1e1fa6f7cb0>,\n",
       "  <matplotlib.lines.Line2D at 0x1e1fa725070>],\n",
       " 'means': []}"
      ]
     },
     "execution_count": 20,
     "metadata": {},
     "output_type": "execute_result"
    },
    {
     "data": {
      "image/png": "[encoded data removed]",
      "text/plain": [
       "<Figure size 640x480 with 1 Axes>"
      ]
     },
     "metadata": {},
     "output_type": "display_data"
    }
   ],
   "source": [
    "plt.boxplot([data, data1, data2])"
   ]
  },
  {
   "cell_type": "code",
   "execution_count": 5,
   "id": "e86aee0a-1e12-475c-9aa6-b8c820b2f078",
   "metadata": {},
   "outputs": [
    {
     "data": {
      "text/plain": [
       "np.float64(39.71246797542929)"
      ]
     },
     "execution_count": 5,
     "metadata": {},
     "output_type": "execute_result"
    }
   ],
   "source": [
    "data.min()"
   ]
  },
  {
   "cell_type": "code",
   "execution_count": 6,
   "id": "1ee16836-0a23-459e-8179-33450a7d196d",
   "metadata": {},
   "outputs": [
    {
     "data": {
      "text/plain": [
       "np.float64(151.01519179385804)"
      ]
     },
     "execution_count": 6,
     "metadata": {},
     "output_type": "execute_result"
    }
   ],
   "source": [
    "data.max()"
   ]
  },
  {
   "cell_type": "code",
   "execution_count": null,
   "id": "61f90f88-553a-4fdc-86b2-3a3f6ca6762d",
   "metadata": {},
   "outputs": [],
   "source": []
  }
 ],
 "metadata": {
  "kernelspec": {
   "display_name": "Python 3 (ipykernel)",
   "language": "python",
   "name": "python3"
  },
  "language_info": {
   "codemirror_mode": {
    "name": "ipython",
    "version": 3
   },
   "file_extension": ".py",
   "mimetype": "text/x-python",
   "name": "python",
   "nbconvert_exporter": "python",
   "pygments_lexer": "ipython3",
   "version": "3.12.3"
  }
 },
 "nbformat": 4,
 "nbformat_minor": 5
}
