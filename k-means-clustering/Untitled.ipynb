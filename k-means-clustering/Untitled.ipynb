{
 "cells": [
  {
   "cell_type": "code",
   "execution_count": 1,
   "id": "c0d84d8e-5326-4b5a-916e-42524086f6dc",
   "metadata": {},
   "outputs": [],
   "source": [
    "import pandas as pd\n",
    "import numpy as np\n",
    "# Create a date range\n",
    "date_rng = pd.date_range(start='2024-01-01', end='2024-01-10', freq='D')\n",
    "\n",
    "# Create a sample DataFrame\n",
    "df = pd.DataFrame({\n",
    "    'date': date_rng,\n",
    "    'sales': np.random.randint(100, 500, size=(len(date_rng))),\n",
    "    'customers': np.random.randint(10, 50, size=(len(date_rng))),\n",
    "})\n",
    "\n",
    "df.to_csv('customer-sales.csv')"
   ]
  },
  {
   "cell_type": "code",
   "execution_count": null,
   "id": "37397222-ef8d-47fe-b29f-27ae9d5d8823",
   "metadata": {},
   "outputs": [],
   "source": []
  }
 ],
 "metadata": {
  "kernelspec": {
   "display_name": "Python 3 (ipykernel)",
   "language": "python",
   "name": "python3"
  },
  "language_info": {
   "codemirror_mode": {
    "name": "ipython",
    "version": 3
   },
   "file_extension": ".py",
   "mimetype": "text/x-python",
   "name": "python",
   "nbconvert_exporter": "python",
   "pygments_lexer": "ipython3",
   "version": "3.12.3"
  }
 },
 "nbformat": 4,
 "nbformat_minor": 5
}
