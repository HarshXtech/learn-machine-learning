{
 "cells": [
  {
   "cell_type": "code",
   "execution_count": 1,
   "id": "7d3cb35d-1a70-4c88-a6d0-7399a164c214",
   "metadata": {},
   "outputs": [
    {
     "data": {
      "text/html": [
       "<div>\n",
       "<style scoped>\n",
       "    .dataframe tbody tr th:only-of-type {\n",
       "        vertical-align: middle;\n",
       "    }\n",
       "\n",
       "    .dataframe tbody tr th {\n",
       "        vertical-align: top;\n",
       "    }\n",
       "\n",
       "    .dataframe thead th {\n",
       "        text-align: right;\n",
       "    }\n",
       "</style>\n",
       "<table border=\"1\" class=\"dataframe\">\n",
       "  <thead>\n",
       "    <tr style=\"text-align: right;\">\n",
       "      <th></th>\n",
       "      <th>0</th>\n",
       "      <th>1</th>\n",
       "    </tr>\n",
       "  </thead>\n",
       "  <tbody>\n",
       "    <tr>\n",
       "      <th>0</th>\n",
       "      <td>1.616671</td>\n",
       "      <td>1.944522</td>\n",
       "    </tr>\n",
       "    <tr>\n",
       "      <th>1</th>\n",
       "      <td>1.256461</td>\n",
       "      <td>1.609444</td>\n",
       "    </tr>\n",
       "    <tr>\n",
       "      <th>2</th>\n",
       "      <td>-2.343919</td>\n",
       "      <td>4.392961</td>\n",
       "    </tr>\n",
       "    <tr>\n",
       "      <th>3</th>\n",
       "      <td>1.195393</td>\n",
       "      <td>2.794485</td>\n",
       "    </tr>\n",
       "    <tr>\n",
       "      <th>4</th>\n",
       "      <td>-3.329586</td>\n",
       "      <td>5.303160</td>\n",
       "    </tr>\n",
       "    <tr>\n",
       "      <th>...</th>\n",
       "      <td>...</td>\n",
       "      <td>...</td>\n",
       "    </tr>\n",
       "    <tr>\n",
       "      <th>245</th>\n",
       "      <td>2.269762</td>\n",
       "      <td>1.958685</td>\n",
       "    </tr>\n",
       "    <tr>\n",
       "      <th>246</th>\n",
       "      <td>1.142436</td>\n",
       "      <td>0.673557</td>\n",
       "    </tr>\n",
       "    <tr>\n",
       "      <th>247</th>\n",
       "      <td>8.195404</td>\n",
       "      <td>1.555439</td>\n",
       "    </tr>\n",
       "    <tr>\n",
       "      <th>248</th>\n",
       "      <td>-4.086492</td>\n",
       "      <td>5.411917</td>\n",
       "    </tr>\n",
       "    <tr>\n",
       "      <th>249</th>\n",
       "      <td>-1.753129</td>\n",
       "      <td>4.941948</td>\n",
       "    </tr>\n",
       "  </tbody>\n",
       "</table>\n",
       "<p>250 rows × 2 columns</p>\n",
       "</div>"
      ],
      "text/plain": [
       "            0         1\n",
       "0    1.616671  1.944522\n",
       "1    1.256461  1.609444\n",
       "2   -2.343919  4.392961\n",
       "3    1.195393  2.794485\n",
       "4   -3.329586  5.303160\n",
       "..        ...       ...\n",
       "245  2.269762  1.958685\n",
       "246  1.142436  0.673557\n",
       "247  8.195404  1.555439\n",
       "248 -4.086492  5.411917\n",
       "249 -1.753129  4.941948\n",
       "\n",
       "[250 rows x 2 columns]"
      ]
     },
     "execution_count": 1,
     "metadata": {},
     "output_type": "execute_result"
    }
   ],
   "source": [
    "import pandas as pd\n",
    "df = pd.read_csv('healthcare.csv')\n",
    "df"
   ]
  },
  {
   "cell_type": "code",
   "execution_count": 2,
   "id": "d3b96129-7664-420d-93cf-6a8974b6eaf3",
   "metadata": {},
   "outputs": [],
   "source": [
    "import matplotlib.pyplot as plt"
   ]
  },
  {
   "cell_type": "code",
   "execution_count": 12,
   "id": "b86d4337-e761-4a24-9f05-bd7f9e026403",
   "metadata": {},
   "outputs": [
    {
     "data": {
      "text/plain": [
       "<matplotlib.collections.PathCollection at 0x288d977d850>"
      ]
     },
     "execution_count": 12,
     "metadata": {},
     "output_type": "execute_result"
    },
    {
     "data": {
      "image/png": "[encoded data removed]",
      "text/plain": [
       "<Figure size 640x480 with 1 Axes>"
      ]
     },
     "metadata": {},
     "output_type": "display_data"
    }
   ],
   "source": [
    "plt.scatter(df['0'], df['1'])"
   ]
  },
  {
   "cell_type": "code",
   "execution_count": 13,
   "id": "1855459a-f072-4d86-837d-c469a228853c",
   "metadata": {},
   "outputs": [],
   "source": [
    "from sklearn.ensemble import IsolationForest"
   ]
  },
  {
   "cell_type": "code",
   "execution_count": 15,
   "id": "2aeaefa9-5118-4a09-9260-44088f4bb28e",
   "metadata": {},
   "outputs": [],
   "source": [
    "clf = IsolationForest(contamination=0.2)\n",
    "pred = clf.fit_predict(df)"
   ]
  },
  {
   "cell_type": "code",
   "execution_count": 17,
   "id": "2bab54f6-dc08-47c0-9b83-018940e1da29",
   "metadata": {},
   "outputs": [],
   "source": [
    "import numpy as np"
   ]
  },
  {
   "cell_type": "code",
   "execution_count": 18,
   "id": "9d93116b-874c-4bff-b0b4-274b739fe013",
   "metadata": {},
   "outputs": [],
   "source": [
    "neg_idx = np.where(pred < 0)"
   ]
  },
  {
   "cell_type": "code",
   "execution_count": 19,
   "id": "0db733dc-a991-41db-a583-d1d1c84ac10a",
   "metadata": {},
   "outputs": [
    {
     "data": {
      "text/plain": [
       "(array([  4,  20,  24,  45,  48,  49,  53,  55,  60,  61,  62,  63,  67,\n",
       "         72,  74,  78,  83,  85,  87,  89,  92,  97, 104, 108, 114, 119,\n",
       "        126, 130, 133, 141, 151, 160, 166, 167, 177, 179, 182, 187, 197,\n",
       "        199, 204, 209, 212, 217, 220, 221, 227, 242, 247, 248]),)"
      ]
     },
     "execution_count": 19,
     "metadata": {},
     "output_type": "execute_result"
    }
   ],
   "source": [
    "neg_idx"
   ]
  },
  {
   "cell_type": "code",
   "execution_count": 20,
   "id": "8e6fd01f-0ef6-4af1-9fb6-4e64deeef03d",
   "metadata": {},
   "outputs": [],
   "source": [
    "x = df.values"
   ]
  },
  {
   "cell_type": "code",
   "execution_count": 23,
   "id": "df40b2ec-5564-4df1-b174-7ac784cb0b0f",
   "metadata": {},
   "outputs": [
    {
     "data": {
      "text/plain": [
       "array([ 1.61667145,  1.2564615 , -2.34391881,  1.19539251, -3.32958612,\n",
       "        1.6241983 ,  0.45611969,  0.62304325, -2.05908202,  2.16307638,\n",
       "       -2.13386677, -1.65311342,  0.75047316, -1.71073925,  0.86102444,\n",
       "       -1.86274182,  1.48027244,  1.45223088, -1.65509092,  1.22887123,\n",
       "        9.39915672,  2.04025339,  0.890442  , -2.35235014,  0.56612677,\n",
       "       -2.38207196, -2.57809122, -1.92902342, -2.40668213,  0.37027151,\n",
       "       -1.62640583,  0.30561087, -2.14591868, -2.15450648,  2.57294545,\n",
       "        1.21777614, -2.06505348,  1.76349787,  0.35886116, -1.92174673,\n",
       "       -2.34200545,  1.64579248, -1.73946756,  2.36372527,  1.90361357,\n",
       "        6.85875323,  1.21046671,  1.02927769,  4.1344601 ,  2.18511659,\n",
       "        1.02796714,  2.09978143,  0.87854998,  8.52106358, -2.4779725 ,\n",
       "       -1.36397675, -1.8145875 ,  0.96105875,  1.53203096,  1.93766202,\n",
       "       -1.25275773, -3.12778211,  3.01426516,  2.30064995, -2.0308132 ,\n",
       "        1.81070426, -1.57918437, -2.07883351, -2.88426923,  0.72693166,\n",
       "       -2.34602492, -2.87794529,  9.08655526,  0.6106605 ,  7.80965481,\n",
       "       -2.06644029, -1.57103804, -2.9681399 ,  6.17256078, -2.10345184,\n",
       "       -3.04730154, -2.31871851,  1.6008305 ,  0.67857605,  1.25220426,\n",
       "       -0.18192636,  1.54656206, -5.59329397,  0.64219514, -2.65326343,\n",
       "        0.76601292,  0.59500016, -4.08215412,  1.70876672,  2.33162085,\n",
       "       -2.19972451, -1.53524744,  6.33547488, -1.4657453 ,  1.97060633,\n",
       "       -2.06797485,  1.92985556, -2.47222313, -2.22046132, -1.24000257,\n",
       "       -2.59442963,  2.3251457 , -2.29932697, -5.88876591,  2.54585535,\n",
       "       -2.05527033, -1.85682816,  1.71914739,  2.16459456, -2.3530374 ,\n",
       "        1.05597453, -2.02108573, -0.87034552, -1.42383422,  8.87516244,\n",
       "       -2.84905291, -2.36279869,  1.4277468 , -2.09252684, -2.35980219,\n",
       "       -1.98068472, -0.9703043 ,  1.50735001, -2.31404378, -1.66680846,\n",
       "        5.3097175 , -1.26671064,  1.04946712,  6.34032555,  0.67881362,\n",
       "       -1.73805449,  1.86629366,  2.29758048, -2.5634129 , -1.95113752,\n",
       "       -1.97525251, -5.49713303,  2.13712524, -2.32620429,  0.57886481,\n",
       "       -2.29865803, -1.59274009,  0.68439511, -2.23179799, -2.00784106,\n",
       "        0.86489114,  7.08823625, -2.15544309, -2.66712924,  2.14460118,\n",
       "        2.28864515, -2.71203045,  1.69594722, -2.06685078,  0.97867162,\n",
       "       -3.01534223, -2.1924399 ,  2.10510534, -2.17671587, -1.02204385,\n",
       "       -1.61337351,  3.16820134,  5.67369885,  2.36120348,  1.48297171,\n",
       "       -1.17593253,  0.9823059 , -1.65423062,  0.9307976 ,  1.28191323,\n",
       "       -2.15455722,  1.15137728, -1.80047683,  2.03272641,  6.91904248,\n",
       "       -2.49275537, -0.84804165,  3.08882824,  1.78163915, -1.67834277,\n",
       "        2.05042957, -2.27143074, -1.02428285,  0.69677194, -1.78687063,\n",
       "        2.84605942,  1.6084632 , -2.72326735,  1.05490775, -2.52262668,\n",
       "       -1.53407581, -2.18234677, -0.28709287, -1.13363941,  1.95597609,\n",
       "       -1.31773408, -1.65077143,  1.31239764, -2.57867763,  3.75302934,\n",
       "        1.47250203, -1.71635486, -2.23982791,  1.24157271,  2.81820549,\n",
       "       -2.00851021, -1.85977915, -1.44255209,  0.89714202,  2.80729059,\n",
       "        1.18112725,  0.93761324, -0.9119444 , -1.61666841,  0.79984926,\n",
       "        8.28094398, -2.33922935,  2.01036339,  1.43108323, -2.92153478,\n",
       "        0.77603001,  1.58883846, -0.26454834,  1.94809207,  1.74945648,\n",
       "        0.87317341,  2.16506189, -2.29815702, -2.3261468 ,  1.14324347,\n",
       "        1.7772047 , -2.09532675, -2.7914692 ,  2.80729127,  1.82596371,\n",
       "        1.0138025 , -2.77039851, -0.7056316 ,  2.73483664,  2.54177654,\n",
       "        2.26976172,  1.1424364 ,  8.19540388, -4.08649206, -1.75312911])"
      ]
     },
     "execution_count": 23,
     "metadata": {},
     "output_type": "execute_result"
    }
   ],
   "source": [
    "x[:, 0]"
   ]
  },
  {
   "cell_type": "code",
   "execution_count": 27,
   "id": "d4d87d16-bc86-42d3-8807-32ff84a976f9",
   "metadata": {},
   "outputs": [
    {
     "data": {
      "text/plain": [
       "<matplotlib.collections.PathCollection at 0x288f0f1a480>"
      ]
     },
     "execution_count": 27,
     "metadata": {},
     "output_type": "execute_result"
    },
    {
     "data": {
      "image/png": "[encoded data removed]",
      "text/plain": [
       "<Figure size 640x480 with 1 Axes>"
      ]
     },
     "metadata": {},
     "output_type": "display_data"
    }
   ],
   "source": [
    "plt.scatter(df['0'], df['1'])\n",
    "plt.scatter(x[neg_idx, 0], x[neg_idx, 1], color='r')"
   ]
  },
  {
   "cell_type": "code",
   "execution_count": null,
   "id": "5f962d76-252e-45c7-af75-5e2a1dec77d3",
   "metadata": {},
   "outputs": [],
   "source": []
  }
 ],
 "metadata": {
  "kernelspec": {
   "display_name": "Python 3 (ipykernel)",
   "language": "python",
   "name": "python3"
  },
  "language_info": {
   "codemirror_mode": {
    "name": "ipython",
    "version": 3
   },
   "file_extension": ".py",
   "mimetype": "text/x-python",
   "name": "python",
   "nbconvert_exporter": "python",
   "pygments_lexer": "ipython3",
   "version": "3.12.3"
  }
 },
 "nbformat": 4,
 "nbformat_minor": 5
}
